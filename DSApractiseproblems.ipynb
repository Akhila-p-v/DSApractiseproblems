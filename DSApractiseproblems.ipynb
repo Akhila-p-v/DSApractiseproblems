{
  "nbformat": 4,
  "nbformat_minor": 0,
  "metadata": {
    "colab": {
      "provenance": []
    },
    "kernelspec": {
      "name": "python3",
      "display_name": "Python 3"
    },
    "language_info": {
      "name": "python"
    }
  },
  "cells": [
    {
      "cell_type": "markdown",
      "source": [
        "**PRACTICE EXERCISE 1**"
      ],
      "metadata": {
        "id": "miFn8ddZHNbV"
      }
    },
    {
      "cell_type": "markdown",
      "source": [
        "1. Write a Python program which accepts the radius of a circle from the user\n",
        "and compute the area.\n",
        "Sample input: Enter the radius: 3\n",
        "Sample output: Area of Circle is 28.59999999999"
      ],
      "metadata": {
        "id": "xzcIq9xcHSh2"
      }
    },
    {
      "cell_type": "code",
      "source": [
        "import math\n",
        "radius = float(input(\"Enter the radius: \")) #to input radius from the user\n",
        "area = math.pi * (radius ** 2)              #to calculate area\n",
        "print(\"Area of Circle is \",area)            #to display area"
      ],
      "metadata": {
        "colab": {
          "base_uri": "https://localhost:8080/"
        },
        "id": "EJsaCHZHUmU6",
        "outputId": "321d33bb-80fb-4958-a648-a202a6792de1"
      },
      "execution_count": null,
      "outputs": [
        {
          "output_type": "stream",
          "name": "stdout",
          "text": [
            "Enter the radius: 3\n",
            "Area of Circle is  28.27433388231\n"
          ]
        }
      ]
    },
    {
      "cell_type": "markdown",
      "source": [
        "2. Write a Python Program to accept the details of a student like name, roll\n",
        "number and mark and display it.\n",
        "Sample input: Enter the name: Anisha\n",
        "Enter the roll number: 21\n",
        "Enter the mark: 78\n",
        "Sample output: Name: Anisha\n",
        "Roll No: 21\n",
        "Mark: 78"
      ],
      "metadata": {
        "id": "bVIlLn3KO1jL"
      }
    },
    {
      "cell_type": "code",
      "source": [
        "name = input(\"Enter the name: \")           #to give input on studentdetails\n",
        "roll_number = input(\"Enter the roll number: \")\n",
        "mark = input(\"Enter the mark: \")\n",
        "print(\"Name:\", name)                        # Display the student details\n",
        "print(\"Roll No:\", roll_number)\n",
        "print(\"Mark:\", mark)"
      ],
      "metadata": {
        "colab": {
          "base_uri": "https://localhost:8080/"
        },
        "id": "ArgNgOrnYGE5",
        "outputId": "3e378cb5-91fa-41cf-ee3f-4c26094f39ae"
      },
      "execution_count": null,
      "outputs": [
        {
          "output_type": "stream",
          "name": "stdout",
          "text": [
            "Enter the name: Anisha\n",
            "Enter the roll number: 21\n",
            "Enter the mark: 78\n",
            "Name: Anisha\n",
            "Roll No: 21\n",
            "Mark: 78\n"
          ]
        }
      ]
    },
    {
      "cell_type": "markdown",
      "source": [
        "3. Write a Python program to get the largest number from a list.\n",
        "Sample input: 12, 3, 47, 10\n",
        "Sample output: 47 is the largest number.\n"
      ],
      "metadata": {
        "id": "L0jeCGkIO9DF"
      }
    },
    {
      "cell_type": "code",
      "source": [
        "numbers = input(\"Enter a list of numbers separated by commas: \") #to input numbers\n",
        "numbers_list = [int(num) for num in numbers.split(',')]     # Convert the input string to a list of integers\n",
        "largest_number = max(numbers_list)                          # Find the largest number in the list\n",
        "print(largest_number,\"is the largest number.\")            #to  display output"
      ],
      "metadata": {
        "colab": {
          "base_uri": "https://localhost:8080/"
        },
        "id": "YwpcD0CcO_20",
        "outputId": "85193006-215e-434e-c3e0-000815d07c89"
      },
      "execution_count": null,
      "outputs": [
        {
          "output_type": "stream",
          "name": "stdout",
          "text": [
            "Enter a list of numbers separated by commas: 12,3,47,10\n",
            "47 is the largest number.\n"
          ]
        }
      ]
    },
    {
      "cell_type": "markdown",
      "source": [
        "4. Given a range of first 10 numbers, write a Python program to iterate from\n",
        "start number to the end number and print the sum of the current number\n",
        "and previous number.\n",
        "Sample input: 1….10\n",
        "Sample output: Current Number 1 Previous Number 0 Sum: 1 Current\n",
        "Number 2 Previous Number 1 Sum: 3 Current Number 3 Previous\n",
        "Number 2 Sum: 5… Current Number 10 Previous Number 9 Sum: 19"
      ],
      "metadata": {
        "id": "OasCKeXtPAjl"
      }
    },
    {
      "cell_type": "code",
      "source": [
        "for current_number in range(1,11):      # range of first 10 numbers\n",
        "   previous_number = current_number - 1  #to get previous number\n",
        "   print(\"current number\",current_number)    #to display current number, previous number, and their sum\n",
        "   print(\"previous number\",previous_number)\n",
        "   print(\"sum:\",current_number + previous_number)"
      ],
      "metadata": {
        "colab": {
          "base_uri": "https://localhost:8080/"
        },
        "id": "aBdwnF1rPF-D",
        "outputId": "4175b9a8-5958-4125-8d2c-a4a0cc5e806d"
      },
      "execution_count": null,
      "outputs": [
        {
          "output_type": "stream",
          "name": "stdout",
          "text": [
            "current number 1\n",
            "previous number 0\n",
            "sum: 1\n",
            "current number 2\n",
            "previous number 1\n",
            "sum: 3\n",
            "current number 3\n",
            "previous number 2\n",
            "sum: 5\n",
            "current number 4\n",
            "previous number 3\n",
            "sum: 7\n",
            "current number 5\n",
            "previous number 4\n",
            "sum: 9\n",
            "current number 6\n",
            "previous number 5\n",
            "sum: 11\n",
            "current number 7\n",
            "previous number 6\n",
            "sum: 13\n",
            "current number 8\n",
            "previous number 7\n",
            "sum: 15\n",
            "current number 9\n",
            "previous number 8\n",
            "sum: 17\n",
            "current number 10\n",
            "previous number 9\n",
            "sum: 19\n"
          ]
        }
      ]
    },
    {
      "cell_type": "markdown",
      "source": [
        "5. Write a Python program to print only those numbers which are divisible\n",
        "of 5.\n",
        "Sample input: 10, 20,33,46,55 Sample output: 10, 20, 55"
      ],
      "metadata": {
        "id": "9JnyQwDKPGmr"
      }
    },
    {
      "cell_type": "code",
      "source": [
        "numbers_input= input(\"Enter a list of numbers separated by commas: \")  #to input numbers\n",
        "numbers_list = [int(num) for num in numbers_input.split(',')]         # Convert the input string to a list of integers\n",
        "res = [num for num in numbers_list if num % 5 == 0]                   #to get numbers divisible by 5\n",
        "print(\"Numbers divisible by 5:\", res)                                 # Print the result\n"
      ],
      "metadata": {
        "colab": {
          "base_uri": "https://localhost:8080/"
        },
        "id": "p5C4CEstPLo7",
        "outputId": "3d364476-76f3-41ed-83e8-a762b9649f39"
      },
      "execution_count": null,
      "outputs": [
        {
          "output_type": "stream",
          "name": "stdout",
          "text": [
            "Enter a list of numbers separated by commas: 10,20,33,46,55\n",
            "Numbers divisible by 5: [10, 20, 55]\n"
          ]
        }
      ]
    },
    {
      "cell_type": "markdown",
      "source": [
        "6. Write a Python program to check whether a number is prime or not.\n",
        "Sample input: Enter the number: 3\n",
        "Sample output: 3 is a prime number."
      ],
      "metadata": {
        "id": "hrXivoBcPQVb"
      }
    },
    {
      "cell_type": "code",
      "source": [
        "num = int(input(\"Enter the number:\"))   #to give input number\n",
        "for i in range(2,num//2 + 1):           #Check for factors in the range from 2 to half of the number\n",
        " if num % i ==0:                       # to check if number is divisible by any i\n",
        "  print('not prime')\n",
        "  break\n",
        "else:\n",
        "  print(num,'is a prime')             # If no factors are found, the number is prime\n"
      ],
      "metadata": {
        "colab": {
          "base_uri": "https://localhost:8080/"
        },
        "id": "683uNwQbPWCa",
        "outputId": "edd4e3a2-842e-4717-9fd2-fd5f1ff7eb4a"
      },
      "execution_count": null,
      "outputs": [
        {
          "output_type": "stream",
          "name": "stdout",
          "text": [
            "Enter the number:3\n",
            "3 is a prime\n"
          ]
        }
      ]
    },
    {
      "cell_type": "markdown",
      "source": [
        "7. Write a Python program to reverse a list using for loop.\n",
        "Sample input: 10,40,30,70\n",
        "Sample output: 70,30,40,10\n"
      ],
      "metadata": {
        "id": "OXmyP5m4PZAC"
      }
    },
    {
      "cell_type": "code",
      "source": [
        "numbers_input = input(\"Enter a list of numbers separated by commas: \")  #to input lists of numbers\n",
        "numbers_list = [int(num) for num in numbers_input.split(',')]          # Convert the input string to a list of integers\n",
        "reversed_list = []\n",
        "for i in range(len(numbers_list) - 1, -1, -1):                       # Use a for loop to reverse the list\n",
        "    reversed_list.append(numbers_list[i])\n",
        "print(\"Reversed list:\",reversed_list)                                # Print the reversed list\n"
      ],
      "metadata": {
        "colab": {
          "base_uri": "https://localhost:8080/"
        },
        "id": "myPvH8SzPaQa",
        "outputId": "193b6f8f-51ae-4fbc-f31f-0e1abba7f671"
      },
      "execution_count": null,
      "outputs": [
        {
          "output_type": "stream",
          "name": "stdout",
          "text": [
            "Enter a list of numbers separated by commas: 10,40,30,70\n",
            "Reversed list: [70, 30, 40, 10]\n"
          ]
        }
      ]
    },
    {
      "cell_type": "markdown",
      "source": [
        "8. Write a Python program to print the following pattern.\n",
        "*\n",
        "**\n",
        "***\n",
        "****"
      ],
      "metadata": {
        "id": "_GZdkpxPc_-8"
      }
    },
    {
      "cell_type": "code",
      "source": [
        "num_rows = 4                            #to set the number of rows\n",
        "for i in range(1, num_rows + 1):         # Loop to iterate through each row\n",
        "    print('*' * i)"
      ],
      "metadata": {
        "colab": {
          "base_uri": "https://localhost:8080/"
        },
        "id": "N3_5zpYrPgOe",
        "outputId": "0168c8f6-4e7e-47ee-9c9c-d4d1397bcc8d"
      },
      "execution_count": null,
      "outputs": [
        {
          "output_type": "stream",
          "name": "stdout",
          "text": [
            "*\n",
            "**\n",
            "***\n",
            "****\n"
          ]
        }
      ]
    },
    {
      "cell_type": "markdown",
      "source": [
        "9. Write a Python program to find the maximum of three numbers\n",
        "Sample input: 34,12,7\n",
        "Sample output: 34"
      ],
      "metadata": {
        "id": "JouypiOvPga-"
      }
    },
    {
      "cell_type": "code",
      "source": [
        "num1 = float(input(\"Enter the first number: \"))           # Get three numbers from the user\n",
        "num2 = float(input(\"Enter the second number: \"))\n",
        "num3 = float(input(\"Enter the third number: \"))\n",
        "maximum_number = max(num1, num2, num3)                    # Find the maximum of the three number\n",
        "print(\"The maximum number is:\", maximum_number)           # Display the result"
      ],
      "metadata": {
        "colab": {
          "base_uri": "https://localhost:8080/"
        },
        "id": "i3qdPCaqPlo2",
        "outputId": "18468d1d-8279-4ad6-d46e-56c7f9260685"
      },
      "execution_count": null,
      "outputs": [
        {
          "output_type": "stream",
          "name": "stdout",
          "text": [
            "Enter the first number: 34\n",
            "Enter the second number: 12\n",
            "Enter the third number: 7\n",
            "The maximum number is: 34.0\n"
          ]
        }
      ]
    },
    {
      "cell_type": "markdown",
      "source": [
        "10. Write a Python program to construct the following pattern, using a\n",
        "nested for loop.\n",
        "*\n",
        "**\n",
        "***\n",
        "****\n",
        "*****\n",
        "****\n",
        "***\n",
        "**\n",
        "*"
      ],
      "metadata": {
        "id": "1sXVrYG8wFTI"
      }
    },
    {
      "cell_type": "code",
      "source": [
        "\n",
        "for i in range(1, 6):          #to print the increasing pattern\n",
        "    print('*' * i)\n",
        "for j in range(4, 0, -1):        #to print the decreasing pattern\n",
        "    print('*' * j)"
      ],
      "metadata": {
        "colab": {
          "base_uri": "https://localhost:8080/"
        },
        "id": "Y_KDq7Nldh0a",
        "outputId": "5b91e39a-b09a-4c2a-e8c8-8396d152310b"
      },
      "execution_count": 1,
      "outputs": [
        {
          "output_type": "stream",
          "name": "stdout",
          "text": [
            "*\n",
            "**\n",
            "***\n",
            "****\n",
            "*****\n",
            "****\n",
            "***\n",
            "**\n",
            "*\n"
          ]
        }
      ]
    },
    {
      "cell_type": "markdown",
      "source": [
        "**PRACTICE EXERCISE 2**"
      ],
      "metadata": {
        "id": "JKnO32trvhUf"
      }
    },
    {
      "cell_type": "markdown",
      "source": [
        "\n",
        "1. Write a Python program to accept a string value from the user and display\n",
        "the count of each character in that string. Sample input: Enter a string\n",
        "value: assembly Sample output: a=1, s=2, e=1, m=1, b=1, l=1, y=1"
      ],
      "metadata": {
        "id": "vJIImxbIvvZU"
      }
    },
    {
      "cell_type": "code",
      "source": [
        "input_string = input(\"Enter a string value: \")                  # to input string from the user\n",
        "char_counts = {}\n",
        "for char in input_string:                                       # Iterate through each character in the input string\n",
        "    char_counts[char] = char_counts.get(char, 0) + 1            # Update the count in the dictionary\n",
        "print(\"Sample output:\", end=\" \")\n",
        "for char, count in char_counts.items():\n",
        "    print(f\"{char}={count}\", end=\", \")\n",
        "print()\n"
      ],
      "metadata": {
        "colab": {
          "base_uri": "https://localhost:8080/"
        },
        "id": "y-43-G244I73",
        "outputId": "02f9c9ff-8e97-48ea-bd71-4232b3b52fcf"
      },
      "execution_count": null,
      "outputs": [
        {
          "output_type": "stream",
          "name": "stdout",
          "text": [
            "Enter a string value: assembly\n",
            "Sample output: a=1, s=2, e=1, m=1, b=1, l=1, y=1, \n"
          ]
        }
      ]
    },
    {
      "cell_type": "markdown",
      "source": [
        "2. . Write a Python function to find the maximum of three numbers Sample\n",
        "input: 34,12,7 Sample output: 34"
      ],
      "metadata": {
        "id": "5c6PrAo3wiGf"
      }
    },
    {
      "cell_type": "code",
      "source": [
        "def find_maximum(num1, num2, num3):                          # Find the maximum of three numbers\n",
        "    return max(num1, num2, num3)\n",
        "num1 = float(input(\"Enter the first number: \"))            # to get three numbers from the user\n",
        "num2 = float(input(\"Enter the second number: \"))\n",
        "num3 = float(input(\"Enter the third number: \"))\n",
        "maximum_number = find_maximum(num1, num2, num3)            # Call the function\n",
        "print(\"The maximum number is:\", maximum_number)            # display the result\n"
      ],
      "metadata": {
        "colab": {
          "base_uri": "https://localhost:8080/"
        },
        "id": "ROGVxhcb5BOd",
        "outputId": "6f3ff413-23b7-41ea-a995-1fddc8126442"
      },
      "execution_count": null,
      "outputs": [
        {
          "output_type": "stream",
          "name": "stdout",
          "text": [
            "Enter the first number: 34\n",
            "Enter the second number: 12\n",
            "Enter the third number: 7\n",
            "The maximum number is: 34.0\n"
          ]
        }
      ]
    },
    {
      "cell_type": "markdown",
      "source": [
        "3. Write a Python function called exponent(base,exp) that returns an\n",
        "integer value of base raises to the power of exp. Sample input: Enter the\n",
        "base: 2 Enter the exponent: 3 Sample output: 8"
      ],
      "metadata": {
        "id": "RCYPBwUE5wmd"
      }
    },
    {
      "cell_type": "code",
      "source": [
        "def exponent(base, exp):                                #to calculate and return base raised to the power of exp as an integer\n",
        "    return int(base ** exp)\n",
        "base = int(input(\"Enter the base: \"))                   #give user inputs\n",
        "exp = int(input(\"Enter the exponent: \"))\n",
        "result = exponent(base, exp)                             # Call the function\n",
        "#print({base} \"raised to the power of \"{exp} ,result) # display the result\n",
        "print(\"ouput\",result)\n"
      ],
      "metadata": {
        "colab": {
          "base_uri": "https://localhost:8080/"
        },
        "id": "ukxHM3sI50ft",
        "outputId": "a509262b-956e-4b8e-944e-04c454eac3a8"
      },
      "execution_count": null,
      "outputs": [
        {
          "output_type": "stream",
          "name": "stdout",
          "text": [
            "Enter the base: 2\n",
            "Enter the exponent: 3\n",
            "ouput 8\n"
          ]
        }
      ]
    },
    {
      "cell_type": "markdown",
      "source": [
        "4. Write a Python function that takes a positive integer and returns the sum\n",
        "of the cube of all the positive integers smaller than the specified number.\n",
        "Sample input: 4 Sample output: 36."
      ],
      "metadata": {
        "id": "jVkqUkAb886s"
      }
    },
    {
      "cell_type": "code",
      "source": [
        "def sum_of_cubes(n):\n",
        "     total_sum = 0     # Initialize the sum\n",
        "     for i in range(1, n):     # to calculate the sum of cubes for each positive integer smaller than n\n",
        "        total_sum += i ** 3\n",
        "     return total_sum\n",
        "\n",
        "num = int(input(\"Enter a positive integer: \"))    #input positive integer\n",
        "result = sum_of_cubes(num)                       #call the function\n",
        "print(\"output:\" ,result   )          #display result\n"
      ],
      "metadata": {
        "colab": {
          "base_uri": "https://localhost:8080/"
        },
        "id": "J_Qx_oAUCqNV",
        "outputId": "9f17e5e3-5384-48a4-a774-a96acb6af522"
      },
      "execution_count": null,
      "outputs": [
        {
          "output_type": "stream",
          "name": "stdout",
          "text": [
            "Enter a positive integer: 4\n",
            "output: 36\n"
          ]
        }
      ]
    },
    {
      "cell_type": "markdown",
      "source": [
        "5. Write a Python program which iterates from 1 to 10. For multiples of 2,\n",
        "print “Fizz” instead of the number and for the multiples of 5, print “Buzz”.\n",
        "For numbers which are multiples of both 2 and 5, print “FizzBuzz”.\n",
        "Sample input: numbers from 1 to 10 Sample output: 1 Fizz 3 Fizz Buzz\n",
        "Fizz 7 Fizz 9 FizzBuzz"
      ],
      "metadata": {
        "id": "2hER5PhfCuVC"
      }
    },
    {
      "cell_type": "code",
      "source": [
        "for num in range(1, 11):                 # Iterate from 1 to 10\n",
        "    if num % 2 == 0 and num % 5 == 0:     # Check for multiples of 2 and 5\n",
        "        print(\"FizzBuzz\")\n",
        "    elif num % 2 == 0:\n",
        "        print(\"Fizz\")\n",
        "    elif num % 5 == 0:\n",
        "        print(\"Buzz\")\n",
        "    else:\n",
        "        print(num)"
      ],
      "metadata": {
        "colab": {
          "base_uri": "https://localhost:8080/"
        },
        "id": "0Pa6Gu8IDFCs",
        "outputId": "058e4bc2-ce8d-4e3d-ab4c-0a624bb02af9"
      },
      "execution_count": null,
      "outputs": [
        {
          "output_type": "stream",
          "name": "stdout",
          "text": [
            "1\n",
            "Fizz\n",
            "3\n",
            "Fizz\n",
            "Buzz\n",
            "Fizz\n",
            "7\n",
            "Fizz\n",
            "9\n",
            "FizzBuzz\n"
          ]
        }
      ]
    },
    {
      "cell_type": "markdown",
      "source": [
        "6. Write a Python program to find the most frequent item in a list of\n",
        "numbers. Sample input: 2, 3, 4, 2, 5, 2 Sample output: 2"
      ],
      "metadata": {
        "id": "u1ZrMij5DH2F"
      }
    },
    {
      "cell_type": "code",
      "source": [
        "numbers_input = input(\"Enter a list of numbers separated by commas: \")    #to input numbers\n",
        "numbers_list = [int(num) for num in numbers_input.split(',')]           # Convert the input string to a list of integers\n",
        "frequency_dict = {}                                                      #create dictionary\n",
        "for num in numbers_list:                                                # Iterate through the list and count the frequency of each number\n",
        "    frequency_dict[num] = frequency_dict.get(num, 0) + 1\n",
        "most_frequent_item = max(frequency_dict, key=frequency_dict.get)     #Find the most frequent item\n",
        "print(\"The most frequent item in the list is: \",most_frequent_item)  #to display output\n"
      ],
      "metadata": {
        "colab": {
          "base_uri": "https://localhost:8080/"
        },
        "id": "fN41rksxDa-A",
        "outputId": "5d446590-fd2f-401e-88b0-8b6bf585f715"
      },
      "execution_count": null,
      "outputs": [
        {
          "output_type": "stream",
          "name": "stdout",
          "text": [
            "Enter a list of numbers separated by commas: 2,3,4,2,5,2\n",
            "The most frequent item in the list is:  2\n"
          ]
        }
      ]
    },
    {
      "cell_type": "markdown",
      "source": [
        "7. Write a Python program to find the sum of squares of the numbers in a\n",
        "list. Sample input: 2,1,3,1 Sample output: 15\n"
      ],
      "metadata": {
        "id": "ke6t5wkXDu0z"
      }
    },
    {
      "cell_type": "code",
      "source": [
        "numbers_input = input(\"Enter a list of numbers separated by commas: \")    #to give user input\n",
        "numbers_list = [int(num) for num in numbers_input.split(',')]            # Convert the input string to a list of integers\n",
        "sum_of_squares = sum(num**2 for num in numbers_list)                   # Calculate the sum of squares\n",
        "print(\"The sum of squares of the numbers in the list is:\", sum_of_squares) #to display output\n"
      ],
      "metadata": {
        "colab": {
          "base_uri": "https://localhost:8080/"
        },
        "id": "OdR8A73bDyea",
        "outputId": "48ad769e-419a-442d-b1b2-4aa02563e899"
      },
      "execution_count": null,
      "outputs": [
        {
          "output_type": "stream",
          "name": "stdout",
          "text": [
            "Enter a list of numbers separated by commas: 2,1,3,1\n",
            "The sum of squares of the numbers in the list is: 15\n"
          ]
        }
      ]
    },
    {
      "cell_type": "markdown",
      "source": [
        "8. Write a Python program using for loop that will iterate from 1 to 15. For\n",
        "each iteration, check if the current number is odd or even, and display the\n",
        "message to the screen as odd or even. Sample input: 1….15 Sample\n",
        "output: 1-odd 2-even …. 15-odd"
      ],
      "metadata": {
        "id": "tdEAcdPdD8gh"
      }
    },
    {
      "cell_type": "code",
      "source": [
        "for num in range(1, 16):                            # Iterate from 1 to 15\n",
        "    if num % 2 == 0:                          #to check num is odd or even\n",
        "        print(num,\"even\")\n",
        "    else:\n",
        "        print(num,\"odd\")\n"
      ],
      "metadata": {
        "colab": {
          "base_uri": "https://localhost:8080/"
        },
        "id": "k9BkHNqqD9kQ",
        "outputId": "fabf1764-2f32-4b64-9ba0-784c4fbce331"
      },
      "execution_count": null,
      "outputs": [
        {
          "output_type": "stream",
          "name": "stdout",
          "text": [
            "1 odd\n",
            "2 even\n",
            "3 odd\n",
            "4 even\n",
            "5 odd\n",
            "6 even\n",
            "7 odd\n",
            "8 even\n",
            "9 odd\n",
            "10 even\n",
            "11 odd\n",
            "12 even\n",
            "13 odd\n",
            "14 even\n",
            "15 odd\n"
          ]
        }
      ]
    },
    {
      "cell_type": "markdown",
      "source": [
        "9. Write a Python program to convert temperatures to and from Celsius\n",
        "Fahrenheit. [Formula: c/5=f-32/9 where c=temperature in Celsius and f=\n",
        "temperature in Fahrenheit.] Sample input: Temperature in Fahrenheit\n",
        "=41 Sample output: Temperature in Celsius =5\n"
      ],
      "metadata": {
        "id": "qk1jSRJrEF9n"
      }
    },
    {
      "cell_type": "code",
      "source": [
        "def fahrenheit_to_celsius(fahrenheit):\n",
        "    celsius = (fahrenheit - 32) * 5 / 9\n",
        "    return celsius\n",
        "\n",
        "def celsius_to_fahrenheit(celsius):\n",
        "    fahrenheit = (celsius * 9 / 5) + 32\n",
        "    return fahrenheit\n",
        "\n",
        "fahrenheit_input = float(input(\"Temperature in Fahrenheit: \"))  #to give user input for temp in F\n",
        "celsius_result = fahrenheit_to_celsius(fahrenheit_input)        # Convert Fahrenheit to Celsius\n",
        "print(\"Temperature in Celsius:\",celsius_result)\n",
        "celsius_input = float(input(\"Temperature in Celsius: \"))      #to give user input for tempin Celsius\n",
        "fahrenheit_result = celsius_to_fahrenheit(celsius_input)      # Convert Celsius to Fahrenheit\n",
        "print(\"Temperature in Fahrenheit: \",fahrenheit_result)\n"
      ],
      "metadata": {
        "colab": {
          "base_uri": "https://localhost:8080/"
        },
        "id": "zY5_16YbEKVi",
        "outputId": "d89898f3-5824-4252-b4f1-ad65c750fda8"
      },
      "execution_count": null,
      "outputs": [
        {
          "output_type": "stream",
          "name": "stdout",
          "text": [
            "Temperature in Fahrenheit: 41\n",
            "Temperature in Celsius: 5.0\n",
            "Temperature in Celsius: 5\n",
            "Temperature in Fahrenheit:  41.0\n"
          ]
        }
      ]
    },
    {
      "cell_type": "markdown",
      "source": [
        "10. Write a Python function to calculate the factorial of a number (a\n",
        "nonnegative integer). The function accepts the number as an argument.\n",
        "Sample input: 3 Sample output: 6"
      ],
      "metadata": {
        "id": "s9BYA8pHEtnh"
      }
    },
    {
      "cell_type": "code",
      "source": [
        "def factorial(n):\n",
        "    if n == 0:                 # Base case\n",
        "        return 1\n",
        "    else:\n",
        "        return n * factorial(n - 1) # Recursive case\n",
        "number = int(input(\"Enter a non-negative integer: \"))  #to give user input\n",
        "result = factorial(number)      #functioncall\n",
        "print(\"The factorial of number is: \",result)  #display output\n"
      ],
      "metadata": {
        "colab": {
          "base_uri": "https://localhost:8080/"
        },
        "id": "RvUTVBYwExEE",
        "outputId": "24cb743a-2dd9-4f0d-e303-b6f120b8baf4"
      },
      "execution_count": null,
      "outputs": [
        {
          "output_type": "stream",
          "name": "stdout",
          "text": [
            "Enter a non-negative integer: 3\n",
            "The factorial of number is:  6\n"
          ]
        }
      ]
    }
  ]
}